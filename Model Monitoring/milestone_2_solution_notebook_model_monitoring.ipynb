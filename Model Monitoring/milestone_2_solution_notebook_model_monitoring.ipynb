{
 "cells": [
  {
   "cell_type": "markdown",
   "id": "fb1e2386-2ff0-40cb-bdfd-3f7c541da3a6",
   "metadata": {
    "tags": []
   },
   "source": [
    "# Milestone 2: Model Monitoring\n",
    "### By Lakshmi Devesh Kumar"
   ]
  },
  {
   "cell_type": "markdown",
   "id": "575793c8-d868-41a4-bf35-7ef118f23056",
   "metadata": {},
   "source": [
    "Business Context: \n",
    "\n",
    "Fashion Haven has successfully implemented a predictive model for sales revenue estimation based on their advertising campaigns across different media sources (TV, Newspaper, Radio). The model has been deployed in production, and it plays a crucial role in guiding the company's advertising budget allocation and overall marketing strategy. However, after the initial deployment, the company faces the challenge of monitoring the model's performance and ensuring its ongoing reliability and accuracy. Over time, the business environment may change, advertising trends could evolve, or external factors may impact customer behavior, all of which can influence the model's predictive capabilities. Fashion Haven needs to develop a robust model monitoring system to identify and address potential issues with the deployed sales revenue prediction model.\n",
    "\n",
    "The goal of this model monitoring assignment is to implement a proactive approach to ensure the model's continued effectiveness and identify any degradation in its performance. By regularly monitoring the model, Fashion Haven can maintain the quality of predictions, make timely updates, and take corrective actions as needed.\n",
    "\n",
    "The model monitoring system should provide the following key functionalities:\n",
    "\n",
    "1. Data Drift Detection: The business environment is dynamic, and changes in customer behavior, market trends, or competitor strategies may cause data distribution to drift over time. The monitoring system should identify and measure data drift in the input features used by the model, helping the team understand how well the model adapts to new data.\n",
    "\n",
    "2. Model Drift Checks: Regular calibration checks will ensure that the model's predicted probabilities align with the observed outcomes. If the model becomes miscalibrated, corrective actions should be taken to recalibrate it for accurate probability estimates."
   ]
  },
  {
   "cell_type": "markdown",
   "id": "83d5117f-a426-43f6-b809-29fb6ff12925",
   "metadata": {
    "tags": []
   },
   "source": [
    "## Creating endpoints (0 Mark)"
   ]
  },
  {
   "cell_type": "markdown",
   "id": "82d205ec-933d-4fe3-a14e-f63615383312",
   "metadata": {},
   "source": [
    "\n",
    "This part of the project will check your skills related to model monitoring. We are providing the below codes to train and deploy the model. You can use these codes to do long-term monitoring checks. Watch the previous LVC recording and refer to the Week 8: Model Monitoring LVC notebook and MLS 8: Model Monitoring: AWS MLS notebook."
   ]
  },
  {
   "cell_type": "markdown",
   "id": "6fe0c304-f519-4fd7-beae-fa3b97956c20",
   "metadata": {},
   "source": [
    "**General Imports**"
   ]
  },
  {
   "cell_type": "code",
   "execution_count": 2,
   "id": "0a6345ed-34d6-4156-8eef-8ec5fb63e543",
   "metadata": {
    "tags": []
   },
   "outputs": [],
   "source": [
    "import json\n",
    "import ast\n",
    "\n",
    "import logging\n",
    "\n",
    "import pandas as pd\n",
    "import matplotlib.pyplot as plt\n",
    "import seaborn as sns\n",
    "\n",
    "from scipy.stats import ks_2samp, chi2_contingency, ttest_rel"
   ]
  },
  {
   "cell_type": "code",
   "execution_count": 3,
   "id": "06279b9a-8078-42e1-92f1-21493cd140de",
   "metadata": {
    "tags": []
   },
   "outputs": [],
   "source": [
    "sns.set_context(\"talk\")"
   ]
  },
  {
   "cell_type": "markdown",
   "id": "24191323-42ae-4a5a-8163-dfbda570aaee",
   "metadata": {},
   "source": [
    "**SageMaker Imports**"
   ]
  },
  {
   "cell_type": "code",
   "execution_count": 4,
   "id": "acdb5b01-d5d4-44e2-8404-d9e1ff1f577d",
   "metadata": {
    "tags": []
   },
   "outputs": [
    {
     "name": "stdout",
     "output_type": "stream",
     "text": [
      "sagemaker.config INFO - Not applying SDK defaults from location: /etc/xdg/sagemaker/config.yaml\n",
      "sagemaker.config INFO - Not applying SDK defaults from location: /root/.config/sagemaker/config.yaml\n"
     ]
    }
   ],
   "source": [
    "import boto3\n",
    "import sagemaker\n",
    "\n",
    "from sagemaker.sklearn.estimator import SKLearn, SKLearnModel\n",
    "from sagemaker.model_monitor import DataCaptureConfig"
   ]
  },
  {
   "cell_type": "markdown",
   "id": "d99b3edd-61bc-4449-b73d-361d3b68ff66",
   "metadata": {},
   "source": [
    "**Authentication**"
   ]
  },
  {
   "cell_type": "code",
   "execution_count": 5,
   "id": "3ae1bc84-34b5-411d-b49b-c6470891175f",
   "metadata": {
    "tags": []
   },
   "outputs": [],
   "source": [
    "session = sagemaker.Session()"
   ]
  },
  {
   "cell_type": "code",
   "execution_count": 6,
   "id": "b4e51144-660c-46d2-8962-f20513a02e9e",
   "metadata": {
    "tags": []
   },
   "outputs": [],
   "source": [
    "try:\n",
    "    aws_role = sagemaker.get_execution_role()\n",
    "except ValueError:\n",
    "    print('Local configuration is not complete; use SageMaker Studio')"
   ]
  },
  {
   "cell_type": "code",
   "execution_count": 7,
   "id": "e83217d3-8b37-4074-9019-5b1786886397",
   "metadata": {
    "tags": []
   },
   "outputs": [
    {
     "name": "stdout",
     "output_type": "stream",
     "text": [
      "AWS execution role associated with the account arn:aws:iam::583418938145:role/service-role/AmazonSageMaker-ExecutionRole-20240611T124233\n",
      "Default bucket associated with the account: sagemaker-us-east-1-583418938145\n",
      "Default boto region associated with the account: us-east-1\n"
     ]
    }
   ],
   "source": [
    "print(f\"AWS execution role associated with the account {aws_role}\")\n",
    "print(f\"Default bucket associated with the account: {session.default_bucket()}\")\n",
    "print(f\"Default boto region associated with the account: {session.boto_region_name}\")"
   ]
  },
  {
   "cell_type": "markdown",
   "id": "4905036e-5caa-4d4c-a583-fbcf3d32156d",
   "metadata": {},
   "source": [
    "**Setup**"
   ]
  },
  {
   "cell_type": "code",
   "execution_count": 8,
   "id": "fe619e0a-0a06-4925-ba51-35710772d166",
   "metadata": {
    "tags": []
   },
   "outputs": [],
   "source": [
    "monitoring_session = sagemaker.session.Session(\n",
    "    default_bucket=\"sagemaker-us-east-1-583418938145\"\n",
    ")"
   ]
  },
  {
   "cell_type": "code",
   "execution_count": 9,
   "id": "b6ac54d1-04b0-4a91-a174-d93acbc944a0",
   "metadata": {
    "tags": []
   },
   "outputs": [
    {
     "data": {
      "text/plain": [
       "'sagemaker-us-east-1-583418938145'"
      ]
     },
     "execution_count": 9,
     "metadata": {},
     "output_type": "execute_result"
    }
   ],
   "source": [
    "monitoring_session.default_bucket()"
   ]
  },
  {
   "cell_type": "markdown",
   "id": "6606e6f7-1597-4d5d-b84a-628a7a0375ba",
   "metadata": {},
   "source": [
    "**Model Training**"
   ]
  },
  {
   "cell_type": "markdown",
   "id": "3b92dea7-8c28-4cb2-bff7-8dd19f573970",
   "metadata": {},
   "source": [
    "We use the `SKLearn` estimator to estimate a model from the training data."
   ]
  },
  {
   "cell_type": "code",
   "execution_count": 10,
   "id": "ec14ee47-6e4f-4441-9c44-023d071667de",
   "metadata": {
    "tags": []
   },
   "outputs": [
    {
     "name": "stdout",
     "output_type": "stream",
     "text": [
      "Overwriting gbr.py\n"
     ]
    }
   ],
   "source": [
    "%%writefile gbr.py\n",
    "\n",
    "import os\n",
    "import joblib\n",
    "import pandas as pd\n",
    "\n",
    "# from sklearn.preprocessing import StandardScaler, OneHotEncoder\n",
    "# from sklearn.compose import make_column_transformer\n",
    "\n",
    "from sklearn.ensemble import GradientBoostingRegressor\n",
    "\n",
    "# from sklearn.pipeline import make_pipeline\n",
    "\n",
    "from sklearn.metrics import mean_squared_error \n",
    "from sklearn.model_selection import train_test_split\n",
    "\n",
    "\n",
    "def main():\n",
    "    \n",
    "    training_data_directory = \"/opt/ml/input/data/train\"\n",
    "    model_output_directory = \"/opt/ml/model\"\n",
    "    \n",
    "    input_data_path = os.path.join(\n",
    "        training_data_directory, \n",
    "        \"processed_data.csv\"\n",
    "    )\n",
    "    \n",
    "    data = pd.read_csv(input_data_path)\n",
    "\n",
    "    target = 'Sales'\n",
    "\n",
    "\n",
    "    X = data.drop(columns=['Sales'])\n",
    "    y = data[target]\n",
    "\n",
    "    Xtrain, Xtest, ytrain, ytest = train_test_split(\n",
    "        X, y, test_size=0.2, random_state=42\n",
    "    )\n",
    "\n",
    "\n",
    "    model_gbr = GradientBoostingRegressor(\n",
    "        max_depth=4,\n",
    "        learning_rate=0.1,\n",
    "        n_estimators=100\n",
    "    )\n",
    "\n",
    "    print(\"Training Gradient Boosting Regressor\")\n",
    "\n",
    "    model_gbr.fit(Xtrain, ytrain)\n",
    "\n",
    "    print(\"Predicting on test data\")\n",
    "\n",
    "    ypred = model_gbr.predict(Xtest)\n",
    "\n",
    "    print(f\"RMSE: {mean_squared_error(ytest, ypred, squared=False)};\")\n",
    "    print(f\"R-squared: {model_gbr.score(Xtest, ytest)};\")\n",
    "\n",
    "    model_output_path = os.path.join(model_output_directory, \"model.joblib\")\n",
    "\n",
    "    print(f\"Saving model to {model_output_path}\")\n",
    "    joblib.dump(model_gbr, model_output_path)\n",
    "    \n",
    "\n",
    "if __name__ == \"__main__\":\n",
    "    main()"
   ]
  },
  {
   "cell_type": "code",
   "execution_count": 11,
   "id": "c1b3539e-4d9b-448d-902e-b8b5ad33bf1e",
   "metadata": {
    "tags": []
   },
   "outputs": [],
   "source": [
    "sklearn_gbr_estimator = SKLearn(\n",
    "    entry_point=\"gbr.py\",\n",
    "    framework_version=\"1.2-1\",\n",
    "    role=aws_role,\n",
    "    sagemaker_session=monitoring_session,\n",
    "    instance_type=\"ml.m4.xlarge\",\n",
    "    instance_count=1,\n",
    "    volume_size=1\n",
    ")"
   ]
  },
  {
   "cell_type": "code",
   "execution_count": 12,
   "id": "b1b68997-5d62-47fc-a80f-573533825937",
   "metadata": {},
   "outputs": [
    {
     "name": "stdout",
     "output_type": "stream",
     "text": [
      "upload: ./processed_data.csv to s3://sagemaker-us-east-1-583418938145/milestone2/processed_data.csv\n"
     ]
    }
   ],
   "source": [
    "!aws s3 cp processed_data.csv s3://sagemaker-us-east-1-583418938145/milestone2/"
   ]
  },
  {
   "cell_type": "code",
   "execution_count": 13,
   "id": "3d0d57fd-f4d4-4425-b04b-bde4fe23a19c",
   "metadata": {},
   "outputs": [
    {
     "name": "stdout",
     "output_type": "stream",
     "text": [
      "upload: ./proc_syn.csv to s3://sagemaker-us-east-1-583418938145/milestone2/proc_syn.csv\n"
     ]
    }
   ],
   "source": [
    "!aws s3 cp proc_syn.csv s3://sagemaker-us-east-1-583418938145/milestone2/"
   ]
  },
  {
   "cell_type": "code",
   "execution_count": 14,
   "id": "7534460e-6f56-4c4f-a6fc-4e7823706d45",
   "metadata": {},
   "outputs": [
    {
     "name": "stdout",
     "output_type": "stream",
     "text": [
      "upload: ./advertising_ground_truth.csv to s3://sagemaker-us-east-1-583418938145/milestone2/advertising_ground_truth.csv\n"
     ]
    }
   ],
   "source": [
    "!aws s3 cp advertising_ground_truth.csv s3://sagemaker-us-east-1-583418938145/milestone2/"
   ]
  },
  {
   "cell_type": "code",
   "execution_count": 87,
   "id": "b0a9964b-1272-4f95-8707-5875a5f395f7",
   "metadata": {},
   "outputs": [
    {
     "name": "stdout",
     "output_type": "stream",
     "text": [
      "2024-07-21 18:02:24        113 advertising_ground_truth.csv\n",
      "2024-07-21 18:02:23        834 proc_syn.csv\n",
      "2024-07-21 18:02:22      12733 processed_data.csv\n"
     ]
    }
   ],
   "source": [
    "!aws s3 ls s3://sagemaker-us-east-1-583418938145/milestone2/"
   ]
  },
  {
   "cell_type": "code",
   "execution_count": 15,
   "id": "a19e9acf-38e1-4a88-a740-28b4dc6e3b89",
   "metadata": {
    "tags": []
   },
   "outputs": [
    {
     "name": "stderr",
     "output_type": "stream",
     "text": [
      "INFO:sagemaker:Creating training-job with name: 2024-07-21-estimate-gbr-04-5\n"
     ]
    }
   ],
   "source": [
    "sklearn_gbr_estimator.fit(\n",
    "    inputs={\n",
    "    'train': 's3://sagemaker-us-east-1-583418938145/milestone2/'\n",
    "    },\n",
    "    wait=False,\n",
    "    job_name='2024-07-21-estimate-gbr-04-5'\n",
    ")"
   ]
  },
  {
   "cell_type": "markdown",
   "id": "1d63af4a-b121-416e-80d8-8ec5bd01c542",
   "metadata": {},
   "source": [
    "*The model artifacts are stored in the `output` folder within the location created by the training job*"
   ]
  },
  {
   "cell_type": "code",
   "execution_count": 16,
   "id": "0195a5fc-59b1-4ba3-a269-294b0a75fab6",
   "metadata": {
    "tags": []
   },
   "outputs": [],
   "source": [
    "artifacts_gbr = \"s3://sagemaker-us-east-1-583418938145/2024-07-21-estimate-gbr-04-5/output/model.tar.gz\""
   ]
  },
  {
   "cell_type": "markdown",
   "id": "d6abaa04-d9cf-46e7-9f7d-980021e85865",
   "metadata": {},
   "source": [
    "**Model Deployment**"
   ]
  },
  {
   "cell_type": "code",
   "execution_count": 17,
   "id": "f4262aaf-de46-41ee-a7c2-252bdab1ad61",
   "metadata": {
    "tags": []
   },
   "outputs": [
    {
     "name": "stdout",
     "output_type": "stream",
     "text": [
      "Overwriting inference.py\n"
     ]
    }
   ],
   "source": [
    "%%writefile inference.py\n",
    "\n",
    "import os\n",
    "import joblib\n",
    "\n",
    "import pandas as pd\n",
    "\n",
    "from io import StringIO\n",
    "\n",
    "\n",
    "def model_fn(model_dir):\n",
    "    '''\n",
    "    This function is called when the server is instantiated for the first time.\n",
    "    SageMaker injects the model directory (/opt/ml/model) when the function is \n",
    "    called. We reference and load the model pipeline binary from this \n",
    "    directory\n",
    "    '''\n",
    "    print(f\"loading model.joblib from: {model_dir}\")\n",
    "    model_pipeline = joblib.load(os.path.join(model_dir, \"model.joblib\"))\n",
    "    return model_pipeline\n",
    "\n",
    "\n",
    "def input_fn(request_body, request_content_type):\n",
    "    '''\n",
    "    This function is called each time a prediction request is received. \n",
    "    We check for the type of the input and restrict the inputs to csv files\n",
    "    If we receive a csv input, we convert the input to a pandas DataFrame\n",
    "    object. This DataFrame serves as an input to the model for prediction\n",
    "    '''\n",
    "    if request_content_type == \"text/csv\":\n",
    "        data_df = pd.read_csv(StringIO(request_body))\n",
    "        return data_df\n",
    "    else:\n",
    "        print(\"Received unknown input\")\n",
    "        pass\n",
    "\n",
    "\n",
    "def predict_fn(input_data, model):\n",
    "    '''\n",
    "    This function is called each time a prediction request is received.\n",
    "    SageMaker injects the processed input data from the input_fn and the model\n",
    "    loaded from the model_fn as parameters \n",
    "    '''\n",
    "    return model.predict(input_data)"
   ]
  },
  {
   "cell_type": "code",
   "execution_count": 18,
   "id": "eb933695-0584-4b57-837e-90d047c2518d",
   "metadata": {
    "tags": []
   },
   "outputs": [],
   "source": [
    "model_gbr = SKLearnModel(\n",
    "    model_data=artifacts_gbr,\n",
    "    role=aws_role,\n",
    "    sagemaker_session=monitoring_session,\n",
    "    entry_point=\"inference.py\",\n",
    "    framework_version=\"1.2-1\"\n",
    ")"
   ]
  },
  {
   "cell_type": "code",
   "execution_count": 19,
   "id": "fffccb34-85d9-4bd8-a5f2-38c445f8eb97",
   "metadata": {
    "tags": []
   },
   "outputs": [],
   "source": [
    "model_monitor_config = DataCaptureConfig(\n",
    "    enable_capture=True,\n",
    "    sampling_percentage=30,\n",
    "    destination_s3_uri=\"s3://sagemaker-us-east-1-583418938145/2024-07-21-monitor-gbr-model\",\n",
    "    capture_options=[\"REQUEST\", \"RESPONSE\"],\n",
    ")"
   ]
  },
  {
   "cell_type": "code",
   "execution_count": 20,
   "id": "fee32a4e-1a60-4441-8032-59706c5c37cb",
   "metadata": {
    "tags": []
   },
   "outputs": [
    {
     "name": "stderr",
     "output_type": "stream",
     "text": [
      "INFO:sagemaker:Creating model with name: sagemaker-scikit-learn-2024-07-23-18-17-36-619\n",
      "INFO:sagemaker:Creating endpoint-config with name gbr-06\n",
      "INFO:sagemaker:Creating endpoint with name gbr-06\n"
     ]
    }
   ],
   "source": [
    "predictor_gbr = model_gbr.deploy(\n",
    "    endpoint_name='gbr-06',\n",
    "    instance_type=\"ml.m4.xlarge\",\n",
    "    initial_instance_count=1,\n",
    "    data_capture_config=model_monitor_config,\n",
    "    wait=False\n",
    ")"
   ]
  },
  {
   "cell_type": "markdown",
   "id": "e1045709-0139-4d39-8e2e-ac46b67f6338",
   "metadata": {
    "tags": []
   },
   "source": [
    "## Test data for monitoring "
   ]
  },
  {
   "cell_type": "markdown",
   "id": "552e880e-6ace-48e0-9892-7d778fa512bc",
   "metadata": {},
   "source": [
    "Read the advertising_synthetic.csv file "
   ]
  },
  {
   "cell_type": "code",
   "execution_count": 21,
   "id": "24cfa885-ef9d-4173-a644-486807556a63",
   "metadata": {
    "tags": []
   },
   "outputs": [],
   "source": [
    "test_df = pd.read_csv(\"proc_syn.csv\")"
   ]
  },
  {
   "cell_type": "markdown",
   "id": "4cb70b5c-7d04-473c-8a6a-7d0ddb8da213",
   "metadata": {
    "tags": []
   },
   "source": [
    "Print the length and info of the dataframe "
   ]
  },
  {
   "cell_type": "code",
   "execution_count": 22,
   "id": "3cc6685c-2eb4-427c-baa0-634823909557",
   "metadata": {
    "tags": []
   },
   "outputs": [
    {
     "name": "stdout",
     "output_type": "stream",
     "text": [
      "length:  19\n"
     ]
    }
   ],
   "source": [
    "print(\"length: \",len(test_df))"
   ]
  },
  {
   "cell_type": "code",
   "execution_count": 23,
   "id": "6f70c040-fb2e-4fcf-a8db-e4b176c08992",
   "metadata": {
    "tags": []
   },
   "outputs": [
    {
     "name": "stdout",
     "output_type": "stream",
     "text": [
      "<class 'pandas.core.frame.DataFrame'>\n",
      "RangeIndex: 19 entries, 0 to 18\n",
      "Data columns (total 4 columns):\n",
      " #   Column     Non-Null Count  Dtype  \n",
      "---  ------     --------------  -----  \n",
      " 0   TV         19 non-null     float64\n",
      " 1   Radio      19 non-null     float64\n",
      " 2   Newspaper  19 non-null     float64\n",
      " 3   Sales      19 non-null     float64\n",
      "dtypes: float64(4)\n",
      "memory usage: 736.0 bytes\n"
     ]
    }
   ],
   "source": [
    "test_df.info()"
   ]
  },
  {
   "cell_type": "markdown",
   "id": "aa5f6689-d05d-48c6-8354-c156df999517",
   "metadata": {},
   "source": [
    "Define the numeric features and the target variable "
   ]
  },
  {
   "cell_type": "code",
   "execution_count": 24,
   "id": "8ae5ec8e-3911-4868-92cf-88383c3467d4",
   "metadata": {
    "tags": []
   },
   "outputs": [],
   "source": [
    "numeric_features = ['TV', 'Radio', 'Newspaper']\n",
    "target = 'Sales'"
   ]
  },
  {
   "cell_type": "markdown",
   "id": "8eb6a382-7894-40f9-bbd6-363f7e099ebd",
   "metadata": {},
   "source": [
    "Define the variable called features and assign the numeric features columns "
   ]
  },
  {
   "cell_type": "code",
   "execution_count": 25,
   "id": "6db18d97-aa6d-4ba3-9b00-b1f0d53aec2f",
   "metadata": {
    "tags": []
   },
   "outputs": [],
   "source": [
    "features = numeric_features"
   ]
  },
  {
   "cell_type": "code",
   "execution_count": 26,
   "id": "34711d1c-de2b-4f02-b1a4-aab182476d4d",
   "metadata": {
    "tags": []
   },
   "outputs": [
    {
     "data": {
      "text/plain": [
       "['TV', 'Radio', 'Newspaper']"
      ]
     },
     "execution_count": 26,
     "metadata": {},
     "output_type": "execute_result"
    }
   ],
   "source": [
    "features"
   ]
  },
  {
   "cell_type": "markdown",
   "id": "b8ae0df5-5131-49b4-8482-efee9e2dea38",
   "metadata": {},
   "source": [
    "Define the sample_Xtest and sample_ytest "
   ]
  },
  {
   "cell_type": "code",
   "execution_count": 27,
   "id": "c8f058f1-1369-4ab9-9d92-3882ebe082a7",
   "metadata": {
    "tags": []
   },
   "outputs": [],
   "source": [
    "sample_Xtest = test_df[features]\n",
    "sample_ytest = test_df['Sales']"
   ]
  },
  {
   "cell_type": "code",
   "execution_count": 28,
   "id": "0122b09c-01cc-4182-abd1-1cc90441bf4e",
   "metadata": {
    "tags": []
   },
   "outputs": [
    {
     "data": {
      "text/html": [
       "<div>\n",
       "<style scoped>\n",
       "    .dataframe tbody tr th:only-of-type {\n",
       "        vertical-align: middle;\n",
       "    }\n",
       "\n",
       "    .dataframe tbody tr th {\n",
       "        vertical-align: top;\n",
       "    }\n",
       "\n",
       "    .dataframe thead th {\n",
       "        text-align: right;\n",
       "    }\n",
       "</style>\n",
       "<table border=\"1\" class=\"dataframe\">\n",
       "  <thead>\n",
       "    <tr style=\"text-align: right;\">\n",
       "      <th></th>\n",
       "      <th>TV</th>\n",
       "      <th>Radio</th>\n",
       "      <th>Newspaper</th>\n",
       "    </tr>\n",
       "  </thead>\n",
       "  <tbody>\n",
       "    <tr>\n",
       "      <th>0</th>\n",
       "      <td>0.969852</td>\n",
       "      <td>0.981522</td>\n",
       "      <td>1.778945</td>\n",
       "    </tr>\n",
       "    <tr>\n",
       "      <th>1</th>\n",
       "      <td>-1.197376</td>\n",
       "      <td>1.082808</td>\n",
       "      <td>0.669579</td>\n",
       "    </tr>\n",
       "    <tr>\n",
       "      <th>2</th>\n",
       "      <td>-1.516155</td>\n",
       "      <td>1.528463</td>\n",
       "      <td>1.783549</td>\n",
       "    </tr>\n",
       "    <tr>\n",
       "      <th>3</th>\n",
       "      <td>0.052050</td>\n",
       "      <td>1.217855</td>\n",
       "      <td>1.286405</td>\n",
       "    </tr>\n",
       "    <tr>\n",
       "      <th>4</th>\n",
       "      <td>0.394182</td>\n",
       "      <td>-0.841614</td>\n",
       "      <td>1.281802</td>\n",
       "    </tr>\n",
       "  </tbody>\n",
       "</table>\n",
       "</div>"
      ],
      "text/plain": [
       "         TV     Radio  Newspaper\n",
       "0  0.969852  0.981522   1.778945\n",
       "1 -1.197376  1.082808   0.669579\n",
       "2 -1.516155  1.528463   1.783549\n",
       "3  0.052050  1.217855   1.286405\n",
       "4  0.394182 -0.841614   1.281802"
      ]
     },
     "execution_count": 28,
     "metadata": {},
     "output_type": "execute_result"
    }
   ],
   "source": [
    "sample_Xtest.head()"
   ]
  },
  {
   "cell_type": "markdown",
   "id": "75c65858-5415-4113-80a6-b4416a6da03f",
   "metadata": {},
   "source": [
    "Define a SageMaker runtime and invoke the endpoint and check the status code "
   ]
  },
  {
   "cell_type": "code",
   "execution_count": 29,
   "id": "5c06b418-02ee-49ea-8cae-cbbf7f281daf",
   "metadata": {
    "tags": []
   },
   "outputs": [],
   "source": [
    "#Define SageMaker runtime\n",
    "sagemaker_runtime = boto3.client(\"sagemaker-runtime\")"
   ]
  },
  {
   "cell_type": "code",
   "execution_count": 30,
   "id": "3154ed6f-1dc7-4484-8865-83d5df9f660b",
   "metadata": {
    "tags": []
   },
   "outputs": [],
   "source": [
    "#Invoke the endpoint\n",
    "response = sagemaker_runtime.invoke_endpoint(\n",
    "    EndpointName = predictor_gbr.endpoint_name,\n",
    "    Body = sample_Xtest.to_csv(header=True, index=False).encode(\"utf-8\"),\n",
    "    ContentType = \"text/csv\"\n",
    ")"
   ]
  },
  {
   "cell_type": "code",
   "execution_count": 31,
   "id": "1238996e-7d94-4503-8c94-9bbc29083029",
   "metadata": {
    "tags": []
   },
   "outputs": [
    {
     "data": {
      "text/plain": [
       "{'ResponseMetadata': {'RequestId': '657c4193-b476-4914-90af-5d8f60601d24',\n",
       "  'HTTPStatusCode': 200,\n",
       "  'HTTPHeaders': {'x-amzn-requestid': '657c4193-b476-4914-90af-5d8f60601d24',\n",
       "   'x-amzn-invoked-production-variant': 'AllTraffic',\n",
       "   'date': 'Tue, 23 Jul 2024 18:24:47 GMT',\n",
       "   'content-type': 'application/json',\n",
       "   'content-length': '371',\n",
       "   'connection': 'keep-alive'},\n",
       "  'RetryAttempts': 0},\n",
       " 'ContentType': 'application/json',\n",
       " 'InvokedProductionVariant': 'AllTraffic',\n",
       " 'Body': <botocore.response.StreamingBody at 0x7f266c2acdc0>}"
      ]
     },
     "execution_count": 31,
     "metadata": {},
     "output_type": "execute_result"
    }
   ],
   "source": [
    "#Print the response from endpoint\n",
    "response"
   ]
  },
  {
   "cell_type": "code",
   "execution_count": 32,
   "id": "2a5e2c98-2311-49cf-8acf-6dec19e1c119",
   "metadata": {
    "tags": []
   },
   "outputs": [
    {
     "data": {
      "text/plain": [
       "200"
      ]
     },
     "execution_count": 32,
     "metadata": {},
     "output_type": "execute_result"
    }
   ],
   "source": [
    "#Check status code of response \n",
    "response['ResponseMetadata']['HTTPStatusCode']"
   ]
  },
  {
   "cell_type": "markdown",
   "id": "0a74420d-f522-42c0-a2b9-1420daea8dd9",
   "metadata": {
    "tags": []
   },
   "source": [
    "## Implementing long-term monitoring "
   ]
  },
  {
   "cell_type": "markdown",
   "id": "d79a4855-4445-4d48-a0f8-6b588133bc83",
   "metadata": {},
   "source": [
    "Read the advertising dataset"
   ]
  },
  {
   "cell_type": "code",
   "execution_count": 33,
   "id": "fb98836f-010b-4434-aa91-e64833c261ff",
   "metadata": {
    "tags": []
   },
   "outputs": [],
   "source": [
    "training_data = pd.read_csv('processed_data.csv')"
   ]
  },
  {
   "cell_type": "markdown",
   "id": "05ac0aec-e49f-403b-b0e9-782720063371",
   "metadata": {
    "tags": []
   },
   "source": [
    "### Accessing Logs "
   ]
  },
  {
   "cell_type": "code",
   "execution_count": 34,
   "id": "a4589b27-80d6-4466-84e6-c669dfd98ab2",
   "metadata": {
    "tags": []
   },
   "outputs": [],
   "source": [
    "# Invoke endpoint 10 times to generate enough logs\n",
    "for _ in range(10):\n",
    "    response = sagemaker_runtime.invoke_endpoint(\n",
    "        EndpointName = predictor_gbr.endpoint_name,\n",
    "        Body = sample_Xtest.sample(10).to_csv(header=True, index=False).encode(\"utf-8\"),\n",
    "        ContentType = \"text/csv\"\n",
    "    )"
   ]
  },
  {
   "cell_type": "code",
   "execution_count": 35,
   "id": "775193dc-4c9d-402c-b73b-e320f64c219d",
   "metadata": {
    "tags": []
   },
   "outputs": [],
   "source": [
    "aws_log_file = '2024-07-21-monitor-gbr-model/gbr-06/AllTraffic/2024/07/23/18/25-16-593-2217a646-41be-4e4d-b2fe-c829909d1611.jsonl'"
   ]
  },
  {
   "cell_type": "code",
   "execution_count": 36,
   "id": "7da4dfbd-660f-4dd5-a5e5-b9f65f4b1fba",
   "metadata": {
    "tags": []
   },
   "outputs": [
    {
     "data": {
      "text/plain": [
       "'2024-07-21-monitor-gbr-model/gbr-06/AllTraffic/2024/07/23/18/25-16-593-2217a646-41be-4e4d-b2fe-c829909d1611.jsonl'"
      ]
     },
     "execution_count": 36,
     "metadata": {},
     "output_type": "execute_result"
    }
   ],
   "source": [
    "aws_log_file"
   ]
  },
  {
   "cell_type": "markdown",
   "id": "fd6ef0d1-cfce-4c67-a3e5-4e562267e78e",
   "metadata": {},
   "source": [
    "**AWS log files are stored as `json` lists. So we need a custom function that loads these log files from the S3 bucket**"
   ]
  },
  {
   "cell_type": "code",
   "execution_count": 37,
   "id": "2dcf9f16-99cf-41cb-8d99-40b4adf91439",
   "metadata": {
    "tags": []
   },
   "outputs": [],
   "source": [
    "# read jsonl from s3 bucket\n",
    "def read_json1_from_s3(bucket, key):\n",
    "    s3 = boto3.client('s3')\n",
    "    data_object = s3.get_object(\n",
    "        Bucket = bucket,\n",
    "        Key = key\n",
    "    )\n",
    "    text = data_object['Body'].read().decode('utf-8')\n",
    "    return text.split('\\n')"
   ]
  },
  {
   "cell_type": "code",
   "execution_count": 38,
   "id": "3556f952-35fc-4c2a-ae8a-659c7e231860",
   "metadata": {
    "tags": []
   },
   "outputs": [],
   "source": [
    "aws_predictions = read_json1_from_s3(\n",
    "    bucket = \"sagemaker-us-east-1-583418938145\",\n",
    "    key = aws_log_file\n",
    ")"
   ]
  },
  {
   "cell_type": "code",
   "execution_count": 39,
   "id": "588634a7-ed7a-46c6-b87f-f151800096e5",
   "metadata": {
    "tags": []
   },
   "outputs": [
    {
     "data": {
      "text/plain": [
       "['{\"captureData\":{\"endpointInput\":{\"observedContentType\":\"text/csv\",\"mode\":\"INPUT\",\"data\":\"TV,Radio,Newspaper\\\\n0.969852266,0.981522472,1.778945467\\\\n-0.313436589,-0.247406325,-0.872486994\\\\n-0.925304978,0.9004942,3.841170715\\\\n-1.615408448,1.731033991,2.045929986\\\\n-1.439087595,0.799208859,1.627040482\\\\n-0.94515567,-1.179231457,-0.292486143\\\\n0.394182198,-0.841613655,1.281801881\\\\n-1.197376228,1.082807813,0.66957876\\\\n-1.516154988,1.52846331,1.783548649\\\\n-1.616576136,-1.42906863,-1.360424218\\\\n\",\"encoding\":\"CSV\"},\"endpointOutput\":{\"observedContentType\":\"application/json\",\"mode\":\"OUTPUT\",\"data\":\"[22.051134455061725, 13.041357716067397, 13.41130087003041, 7.236531202694393, 9.234837056057598, 8.676001420411271, 12.972214573164386, 10.463774187392104, 9.267577087957873, 4.747782679391745]\",\"encoding\":\"JSON\"}},\"eventMetadata\":{\"eventId\":\"d4e026de-e95a-4dd0-8512-1d25032c6b61\",\"inferenceTime\":\"2024-07-23T18:25:16Z\"},\"eventVersion\":\"0\"}',\n",
       " '{\"captureData\":{\"endpointInput\":{\"observedContentType\":\"text/csv\",\"mode\":\"INPUT\",\"data\":\"TV,Radio,Newspaper\\\\n-1.197376228,1.082807813,0.66957876\\\\n-0.578501712,-1.057689048,-1.075026974\\\\n-0.313436589,-0.247406325,-0.872486994\\\\n0.052049682,1.217854933,1.286405062\\\\n-1.045576818,0.643904671,-0.324708413\\\\n-1.439087595,0.799208859,1.627040482\\\\n-1.616576136,-1.42906863,-1.360424218\\\\n0.564664612,1.650005719,1.028626906\\\\n-0.925304978,0.9004942,3.841170715\\\\n1.568876091,1.103064881,1.162119165\\\\n\",\"encoding\":\"CSV\"},\"endpointOutput\":{\"observedContentType\":\"application/json\",\"mode\":\"OUTPUT\",\"data\":\"[10.463774187392104, 9.818946470104827, 13.041357716067397, 18.450005178694074, 11.543878036703049, 9.234837056057598, 4.747782679391745, 21.53903224112515, 13.41130087003041, 24.39375722735539]\",\"encoding\":\"JSON\"}},\"eventMetadata\":{\"eventId\":\"a3fec6a8-f642-45e6-964c-1c6d8720298c\",\"inferenceTime\":\"2024-07-23T18:25:17Z\"},\"eventVersion\":\"0\"}',\n",
       " '']"
      ]
     },
     "execution_count": 39,
     "metadata": {},
     "output_type": "execute_result"
    }
   ],
   "source": [
    "#Print the log output\n",
    "aws_predictions"
   ]
  },
  {
   "cell_type": "markdown",
   "id": "888ac204-1e24-436e-bf96-096fd75f82c0",
   "metadata": {},
   "source": [
    "**Let us extract the observed predictions into a list**"
   ]
  },
  {
   "cell_type": "code",
   "execution_count": 40,
   "id": "adea4633-b9c6-4580-aad5-5e20edbb8d16",
   "metadata": {
    "tags": []
   },
   "outputs": [],
   "source": [
    "model_predictions_aws_list = []"
   ]
  },
  {
   "cell_type": "code",
   "execution_count": 41,
   "id": "78ce583f-41b4-4c2d-8bdf-2263282fada9",
   "metadata": {
    "tags": []
   },
   "outputs": [],
   "source": [
    "for prediction in aws_predictions:\n",
    "    if prediction != '':\n",
    "        prediction_data = json.loads(prediction)\n",
    "        model_predictions_aws_list.extend(\n",
    "            json.loads(\n",
    "                prediction_data['captureData']['endpointOutput']['data']\n",
    "            )\n",
    "        )"
   ]
  },
  {
   "cell_type": "code",
   "execution_count": 42,
   "id": "298f803a-d018-4e98-91ca-0a2184cfb08f",
   "metadata": {
    "tags": []
   },
   "outputs": [
    {
     "data": {
      "text/plain": [
       "20"
      ]
     },
     "execution_count": 42,
     "metadata": {},
     "output_type": "execute_result"
    }
   ],
   "source": [
    "len(model_predictions_aws_list)"
   ]
  },
  {
   "cell_type": "markdown",
   "id": "bb86602d-ec47-4746-82ef-7ce631eca402",
   "metadata": {
    "tags": []
   },
   "source": [
    "### Target Checks "
   ]
  },
  {
   "cell_type": "markdown",
   "id": "fa23947e-33a3-4491-a898-a547d66f684d",
   "metadata": {},
   "source": [
    "Create a boxplot to check the distribution of price in the training data and the distribution of predicted price from the deployed model. "
   ]
  },
  {
   "cell_type": "code",
   "execution_count": 43,
   "id": "bf9f18cb-5c65-4e7d-9754-5feedd3af82d",
   "metadata": {
    "tags": []
   },
   "outputs": [
    {
     "data": {
      "image/png": "[encoded data removed]",
      "text/plain": [
       "<Figure size 900x400 with 2 Axes>"
      ]
     },
     "metadata": {},
     "output_type": "display_data"
    }
   ],
   "source": [
    "plt.figure(figsize=(9, 4))\n",
    "plt.subplot(211)\n",
    "sns.boxplot(x='Sales', data=training_data)\n",
    "plt.title(\"Distribution of sales in training data\")\n",
    "plt.subplot(212)\n",
    "sns.boxplot(x=model_predictions_aws_list)\n",
    "plt.title(\"Distribution of predicted sales from the deployed model\")\n",
    "plt.tight_layout()\n",
    "plt.show()"
   ]
  },
  {
   "cell_type": "markdown",
   "id": "9e7a3713-dc5b-4bb0-aab7-58e4f4fa1e91",
   "metadata": {},
   "source": [
    "**Kolmogorov-Smirnov test** "
   ]
  },
  {
   "cell_type": "code",
   "execution_count": 44,
   "id": "b8a45c75-33ad-4b75-a8cb-66d513722b71",
   "metadata": {
    "tags": []
   },
   "outputs": [],
   "source": [
    "#Calculate the p-value using the K-S test\n",
    "statistic, p_value = ks_2samp(\n",
    "            training_data[target].values,\n",
    "            model_predictions_aws_list\n",
    ")"
   ]
  },
  {
   "cell_type": "code",
   "execution_count": 45,
   "id": "0d50af55-d5d2-4ebb-962f-6e30ed4b7778",
   "metadata": {
    "tags": []
   },
   "outputs": [
    {
     "data": {
      "text/plain": [
       "0.16305626365149908"
      ]
     },
     "execution_count": 45,
     "metadata": {},
     "output_type": "execute_result"
    }
   ],
   "source": [
    "#Print p-value\n",
    "p_value"
   ]
  },
  {
   "cell_type": "markdown",
   "id": "5459059b-a264-46a1-a57e-f46c85de8af3",
   "metadata": {},
   "source": [
    "Observation "
   ]
  },
  {
   "cell_type": "markdown",
   "id": "f73a4119-0833-4067-8261-95806d6eb707",
   "metadata": {},
   "source": [
    "*Since the p-value is >0.05 , there is no significant difference between the model predictions and the target distribution in the training data.*"
   ]
  },
  {
   "cell_type": "markdown",
   "id": "dbd54b73-c16e-44db-b80f-d22ee3d2eeb0",
   "metadata": {
    "tags": []
   },
   "source": [
    "### Data Drift "
   ]
  },
  {
   "cell_type": "code",
   "execution_count": 46,
   "id": "b086f535-b363-4fa1-900b-b0ffe64a569c",
   "metadata": {
    "tags": []
   },
   "outputs": [],
   "source": [
    "threshold = 0.05\n",
    "features_with_data_drift = []"
   ]
  },
  {
   "cell_type": "markdown",
   "id": "d30798a7-adb3-43eb-a1ca-99b7fc205a79",
   "metadata": {},
   "source": [
    "Create a loop to check features with data drift"
   ]
  },
  {
   "cell_type": "code",
   "execution_count": 47,
   "id": "14d1e5be-e80b-4d23-9d34-26667660cbc8",
   "metadata": {
    "tags": []
   },
   "outputs": [],
   "source": [
    "for k, feature in enumerate(sample_Xtest.columns):\n",
    "    \n",
    "    statistic, p_value = ks_2samp(\n",
    "        training_data[feature].values,\n",
    "        sample_Xtest[feature].values\n",
    "    )\n",
    "    \n",
    "    if p_value < threshold:\n",
    "        features_with_data_drift.append(feature)"
   ]
  },
  {
   "cell_type": "code",
   "execution_count": 48,
   "id": "562c547e-bf33-4380-ad3d-1ef995c0a117",
   "metadata": {
    "tags": []
   },
   "outputs": [
    {
     "data": {
      "text/plain": [
       "['Newspaper']"
      ]
     },
     "execution_count": 48,
     "metadata": {},
     "output_type": "execute_result"
    }
   ],
   "source": [
    "features_with_data_drift"
   ]
  },
  {
   "cell_type": "markdown",
   "id": "d928c48f-49bc-461f-ab14-6f2c20c8790c",
   "metadata": {},
   "source": [
    "Observation:"
   ]
  },
  {
   "cell_type": "markdown",
   "id": "37dd2a19-ab22-4e9a-aaa6-75085734991d",
   "metadata": {},
   "source": [
    ". The drift in ['Newspaper'] is potentially the reason why there is a drift in the predicted targets (e.g., outlier predictions)."
   ]
  },
  {
   "cell_type": "markdown",
   "id": "b592a7ff-a8ce-4eee-a5ea-fc8313b1ed8e",
   "metadata": {
    "tags": []
   },
   "source": [
    "### Model Drift "
   ]
  },
  {
   "cell_type": "markdown",
   "id": "4f18da8e-ebc2-476c-90c4-f4d9420cd9d2",
   "metadata": {},
   "source": [
    "Read the advertising_ground_truth.csv file"
   ]
  },
  {
   "cell_type": "code",
   "execution_count": 49,
   "id": "7271621b-7598-454e-8fbc-9545c26f5268",
   "metadata": {
    "tags": []
   },
   "outputs": [],
   "source": [
    "ground_truth_sales = pd.read_csv('advertising_ground_truth.csv')"
   ]
  },
  {
   "cell_type": "code",
   "execution_count": 50,
   "id": "6355aa59-d742-4183-8726-13319803799d",
   "metadata": {
    "tags": []
   },
   "outputs": [
    {
     "data": {
      "text/plain": [
       "19"
      ]
     },
     "execution_count": 50,
     "metadata": {},
     "output_type": "execute_result"
    }
   ],
   "source": [
    "# Length of ground truth\n",
    "len(ground_truth_sales)"
   ]
  },
  {
   "cell_type": "code",
   "execution_count": 51,
   "id": "0628953e-44d0-4ddc-892f-6d2722111392",
   "metadata": {
    "tags": []
   },
   "outputs": [
    {
     "data": {
      "text/html": [
       "<div>\n",
       "<style scoped>\n",
       "    .dataframe tbody tr th:only-of-type {\n",
       "        vertical-align: middle;\n",
       "    }\n",
       "\n",
       "    .dataframe tbody tr th {\n",
       "        vertical-align: top;\n",
       "    }\n",
       "\n",
       "    .dataframe thead th {\n",
       "        text-align: right;\n",
       "    }\n",
       "</style>\n",
       "<table border=\"1\" class=\"dataframe\">\n",
       "  <thead>\n",
       "    <tr style=\"text-align: right;\">\n",
       "      <th></th>\n",
       "      <th>Sales</th>\n",
       "    </tr>\n",
       "  </thead>\n",
       "  <tbody>\n",
       "    <tr>\n",
       "      <th>0</th>\n",
       "      <td>22.1</td>\n",
       "    </tr>\n",
       "    <tr>\n",
       "      <th>1</th>\n",
       "      <td>10.4</td>\n",
       "    </tr>\n",
       "    <tr>\n",
       "      <th>2</th>\n",
       "      <td>9.3</td>\n",
       "    </tr>\n",
       "    <tr>\n",
       "      <th>3</th>\n",
       "      <td>18.5</td>\n",
       "    </tr>\n",
       "    <tr>\n",
       "      <th>4</th>\n",
       "      <td>12.9</td>\n",
       "    </tr>\n",
       "  </tbody>\n",
       "</table>\n",
       "</div>"
      ],
      "text/plain": [
       "   Sales\n",
       "0   22.1\n",
       "1   10.4\n",
       "2    9.3\n",
       "3   18.5\n",
       "4   12.9"
      ]
     },
     "execution_count": 51,
     "metadata": {},
     "output_type": "execute_result"
    }
   ],
   "source": [
    "ground_truth_sales.head()"
   ]
  },
  {
   "cell_type": "markdown",
   "id": "f068932d-737a-4b28-8094-5a776c46420f",
   "metadata": {},
   "source": [
    "We now present the same synthetic data (on which ground truth is now available) to the endpoint."
   ]
  },
  {
   "cell_type": "code",
   "execution_count": 52,
   "id": "5127410b-0a30-48d1-8b61-873db1082ff5",
   "metadata": {
    "tags": []
   },
   "outputs": [],
   "source": [
    "response = sagemaker_runtime.invoke_endpoint(\n",
    "    EndpointName = predictor_gbr.endpoint_name,\n",
    "    Body = sample_Xtest.to_csv(header=True, index=False).encode(\"utf-8\"),\n",
    "    ContentType = \"text/csv\"\n",
    ")"
   ]
  },
  {
   "cell_type": "code",
   "execution_count": 53,
   "id": "e46753fb-f07d-4ffe-b171-8978d885e539",
   "metadata": {
    "tags": []
   },
   "outputs": [],
   "source": [
    "model_predictions_aws = ast.literal_eval(\n",
    "    response[\"Body\"].read().decode(\"utf-8\")\n",
    ")"
   ]
  },
  {
   "cell_type": "code",
   "execution_count": 54,
   "id": "bd8dfd59-3e8e-4621-a7f9-fb15e4b006d1",
   "metadata": {
    "tags": []
   },
   "outputs": [
    {
     "data": {
      "text/plain": [
       "19"
      ]
     },
     "execution_count": 54,
     "metadata": {},
     "output_type": "execute_result"
    }
   ],
   "source": [
    "len(model_predictions_aws)"
   ]
  },
  {
   "cell_type": "markdown",
   "id": "6644d809-7691-4199-9548-22ac885d6c1a",
   "metadata": {},
   "source": [
    "Check the two sample ttest"
   ]
  },
  {
   "cell_type": "code",
   "execution_count": 55,
   "id": "4859d391-0255-42f3-bfd1-ac612e2f8867",
   "metadata": {
    "tags": []
   },
   "outputs": [],
   "source": [
    "two_sample_ttest = ttest_rel(model_predictions_aws, ground_truth_sales['Sales'])"
   ]
  },
  {
   "cell_type": "code",
   "execution_count": 56,
   "id": "be3690ef-6e47-4ff4-bf98-e3a95d7b5fe3",
   "metadata": {
    "tags": []
   },
   "outputs": [
    {
     "data": {
      "text/plain": [
       "0.7879019852812252"
      ]
     },
     "execution_count": 56,
     "metadata": {},
     "output_type": "execute_result"
    }
   ],
   "source": [
    "#Print the p-value of the two sample test\n",
    "two_sample_ttest.pvalue"
   ]
  },
  {
   "cell_type": "markdown",
   "id": "eb2fee40-f9d3-4e34-80fd-e85b9a43036c",
   "metadata": {},
   "source": [
    "Observations:"
   ]
  },
  {
   "cell_type": "markdown",
   "id": "516e4b5d-0208-4fc9-bbd2-e37545960db2",
   "metadata": {},
   "source": [
    ". Since the p value is greater than 0.05, we conclude that there is no significant difference between the model predictions and the ground truth."
   ]
  },
  {
   "cell_type": "markdown",
   "id": "5f71e10f-0297-445f-b096-144ee1a80c4b",
   "metadata": {
    "tags": []
   },
   "source": [
    "## Delete the Endpoint"
   ]
  },
  {
   "cell_type": "code",
   "execution_count": 57,
   "id": "b45e80ad-83cd-41e0-8f34-6f0700936677",
   "metadata": {
    "tags": []
   },
   "outputs": [
    {
     "name": "stderr",
     "output_type": "stream",
     "text": [
      "INFO:sagemaker:Deleting endpoint configuration with name: gbr-06\n",
      "INFO:sagemaker:Deleting endpoint with name: gbr-06\n"
     ]
    }
   ],
   "source": [
    "predictor_gbr.delete_endpoint(delete_endpoint_config=True)"
   ]
  }
 ],
 "metadata": {
  "availableInstances": [
   {
    "_defaultOrder": 0,
    "_isFastLaunch": true,
    "category": "General purpose",
    "gpuNum": 0,
    "hideHardwareSpecs": false,
    "memoryGiB": 4,
    "name": "ml.t3.medium",
    "vcpuNum": 2
   },
   {
    "_defaultOrder": 1,
    "_isFastLaunch": false,
    "category": "General purpose",
    "gpuNum": 0,
    "hideHardwareSpecs": false,
    "memoryGiB": 8,
    "name": "ml.t3.large",
    "vcpuNum": 2
   },
   {
    "_defaultOrder": 2,
    "_isFastLaunch": false,
    "category": "General purpose",
    "gpuNum": 0,
    "hideHardwareSpecs": false,
    "memoryGiB": 16,
    "name": "ml.t3.xlarge",
    "vcpuNum": 4
   },
   {
    "_defaultOrder": 3,
    "_isFastLaunch": false,
    "category": "General purpose",
    "gpuNum": 0,
    "hideHardwareSpecs": false,
    "memoryGiB": 32,
    "name": "ml.t3.2xlarge",
    "vcpuNum": 8
   },
   {
    "_defaultOrder": 4,
    "_isFastLaunch": true,
    "category": "General purpose",
    "gpuNum": 0,
    "hideHardwareSpecs": false,
    "memoryGiB": 8,
    "name": "ml.m5.large",
    "vcpuNum": 2
   },
   {
    "_defaultOrder": 5,
    "_isFastLaunch": false,
    "category": "General purpose",
    "gpuNum": 0,
    "hideHardwareSpecs": false,
    "memoryGiB": 16,
    "name": "ml.m5.xlarge",
    "vcpuNum": 4
   },
   {
    "_defaultOrder": 6,
    "_isFastLaunch": false,
    "category": "General purpose",
    "gpuNum": 0,
    "hideHardwareSpecs": false,
    "memoryGiB": 32,
    "name": "ml.m5.2xlarge",
    "vcpuNum": 8
   },
   {
    "_defaultOrder": 7,
    "_isFastLaunch": false,
    "category": "General purpose",
    "gpuNum": 0,
    "hideHardwareSpecs": false,
    "memoryGiB": 64,
    "name": "ml.m5.4xlarge",
    "vcpuNum": 16
   },
   {
    "_defaultOrder": 8,
    "_isFastLaunch": false,
    "category": "General purpose",
    "gpuNum": 0,
    "hideHardwareSpecs": false,
    "memoryGiB": 128,
    "name": "ml.m5.8xlarge",
    "vcpuNum": 32
   },
   {
    "_defaultOrder": 9,
    "_isFastLaunch": false,
    "category": "General purpose",
    "gpuNum": 0,
    "hideHardwareSpecs": false,
    "memoryGiB": 192,
    "name": "ml.m5.12xlarge",
    "vcpuNum": 48
   },
   {
    "_defaultOrder": 10,
    "_isFastLaunch": false,
    "category": "General purpose",
    "gpuNum": 0,
    "hideHardwareSpecs": false,
    "memoryGiB": 256,
    "name": "ml.m5.16xlarge",
    "vcpuNum": 64
   },
   {
    "_defaultOrder": 11,
    "_isFastLaunch": false,
    "category": "General purpose",
    "gpuNum": 0,
    "hideHardwareSpecs": false,
    "memoryGiB": 384,
    "name": "ml.m5.24xlarge",
    "vcpuNum": 96
   },
   {
    "_defaultOrder": 12,
    "_isFastLaunch": false,
    "category": "General purpose",
    "gpuNum": 0,
    "hideHardwareSpecs": false,
    "memoryGiB": 8,
    "name": "ml.m5d.large",
    "vcpuNum": 2
   },
   {
    "_defaultOrder": 13,
    "_isFastLaunch": false,
    "category": "General purpose",
    "gpuNum": 0,
    "hideHardwareSpecs": false,
    "memoryGiB": 16,
    "name": "ml.m5d.xlarge",
    "vcpuNum": 4
   },
   {
    "_defaultOrder": 14,
    "_isFastLaunch": false,
    "category": "General purpose",
    "gpuNum": 0,
    "hideHardwareSpecs": false,
    "memoryGiB": 32,
    "name": "ml.m5d.2xlarge",
    "vcpuNum": 8
   },
   {
    "_defaultOrder": 15,
    "_isFastLaunch": false,
    "category": "General purpose",
    "gpuNum": 0,
    "hideHardwareSpecs": false,
    "memoryGiB": 64,
    "name": "ml.m5d.4xlarge",
    "vcpuNum": 16
   },
   {
    "_defaultOrder": 16,
    "_isFastLaunch": false,
    "category": "General purpose",
    "gpuNum": 0,
    "hideHardwareSpecs": false,
    "memoryGiB": 128,
    "name": "ml.m5d.8xlarge",
    "vcpuNum": 32
   },
   {
    "_defaultOrder": 17,
    "_isFastLaunch": false,
    "category": "General purpose",
    "gpuNum": 0,
    "hideHardwareSpecs": false,
    "memoryGiB": 192,
    "name": "ml.m5d.12xlarge",
    "vcpuNum": 48
   },
   {
    "_defaultOrder": 18,
    "_isFastLaunch": false,
    "category": "General purpose",
    "gpuNum": 0,
    "hideHardwareSpecs": false,
    "memoryGiB": 256,
    "name": "ml.m5d.16xlarge",
    "vcpuNum": 64
   },
   {
    "_defaultOrder": 19,
    "_isFastLaunch": false,
    "category": "General purpose",
    "gpuNum": 0,
    "hideHardwareSpecs": false,
    "memoryGiB": 384,
    "name": "ml.m5d.24xlarge",
    "vcpuNum": 96
   },
   {
    "_defaultOrder": 20,
    "_isFastLaunch": false,
    "category": "General purpose",
    "gpuNum": 0,
    "hideHardwareSpecs": true,
    "memoryGiB": 0,
    "name": "ml.geospatial.interactive",
    "supportedImageNames": [
     "sagemaker-geospatial-v1-0"
    ],
    "vcpuNum": 0
   },
   {
    "_defaultOrder": 21,
    "_isFastLaunch": true,
    "category": "Compute optimized",
    "gpuNum": 0,
    "hideHardwareSpecs": false,
    "memoryGiB": 4,
    "name": "ml.c5.large",
    "vcpuNum": 2
   },
   {
    "_defaultOrder": 22,
    "_isFastLaunch": false,
    "category": "Compute optimized",
    "gpuNum": 0,
    "hideHardwareSpecs": false,
    "memoryGiB": 8,
    "name": "ml.c5.xlarge",
    "vcpuNum": 4
   },
   {
    "_defaultOrder": 23,
    "_isFastLaunch": false,
    "category": "Compute optimized",
    "gpuNum": 0,
    "hideHardwareSpecs": false,
    "memoryGiB": 16,
    "name": "ml.c5.2xlarge",
    "vcpuNum": 8
   },
   {
    "_defaultOrder": 24,
    "_isFastLaunch": false,
    "category": "Compute optimized",
    "gpuNum": 0,
    "hideHardwareSpecs": false,
    "memoryGiB": 32,
    "name": "ml.c5.4xlarge",
    "vcpuNum": 16
   },
   {
    "_defaultOrder": 25,
    "_isFastLaunch": false,
    "category": "Compute optimized",
    "gpuNum": 0,
    "hideHardwareSpecs": false,
    "memoryGiB": 72,
    "name": "ml.c5.9xlarge",
    "vcpuNum": 36
   },
   {
    "_defaultOrder": 26,
    "_isFastLaunch": false,
    "category": "Compute optimized",
    "gpuNum": 0,
    "hideHardwareSpecs": false,
    "memoryGiB": 96,
    "name": "ml.c5.12xlarge",
    "vcpuNum": 48
   },
   {
    "_defaultOrder": 27,
    "_isFastLaunch": false,
    "category": "Compute optimized",
    "gpuNum": 0,
    "hideHardwareSpecs": false,
    "memoryGiB": 144,
    "name": "ml.c5.18xlarge",
    "vcpuNum": 72
   },
   {
    "_defaultOrder": 28,
    "_isFastLaunch": false,
    "category": "Compute optimized",
    "gpuNum": 0,
    "hideHardwareSpecs": false,
    "memoryGiB": 192,
    "name": "ml.c5.24xlarge",
    "vcpuNum": 96
   },
   {
    "_defaultOrder": 29,
    "_isFastLaunch": true,
    "category": "Accelerated computing",
    "gpuNum": 1,
    "hideHardwareSpecs": false,
    "memoryGiB": 16,
    "name": "ml.g4dn.xlarge",
    "vcpuNum": 4
   },
   {
    "_defaultOrder": 30,
    "_isFastLaunch": false,
    "category": "Accelerated computing",
    "gpuNum": 1,
    "hideHardwareSpecs": false,
    "memoryGiB": 32,
    "name": "ml.g4dn.2xlarge",
    "vcpuNum": 8
   },
   {
    "_defaultOrder": 31,
    "_isFastLaunch": false,
    "category": "Accelerated computing",
    "gpuNum": 1,
    "hideHardwareSpecs": false,
    "memoryGiB": 64,
    "name": "ml.g4dn.4xlarge",
    "vcpuNum": 16
   },
   {
    "_defaultOrder": 32,
    "_isFastLaunch": false,
    "category": "Accelerated computing",
    "gpuNum": 1,
    "hideHardwareSpecs": false,
    "memoryGiB": 128,
    "name": "ml.g4dn.8xlarge",
    "vcpuNum": 32
   },
   {
    "_defaultOrder": 33,
    "_isFastLaunch": false,
    "category": "Accelerated computing",
    "gpuNum": 4,
    "hideHardwareSpecs": false,
    "memoryGiB": 192,
    "name": "ml.g4dn.12xlarge",
    "vcpuNum": 48
   },
   {
    "_defaultOrder": 34,
    "_isFastLaunch": false,
    "category": "Accelerated computing",
    "gpuNum": 1,
    "hideHardwareSpecs": false,
    "memoryGiB": 256,
    "name": "ml.g4dn.16xlarge",
    "vcpuNum": 64
   },
   {
    "_defaultOrder": 35,
    "_isFastLaunch": false,
    "category": "Accelerated computing",
    "gpuNum": 1,
    "hideHardwareSpecs": false,
    "memoryGiB": 61,
    "name": "ml.p3.2xlarge",
    "vcpuNum": 8
   },
   {
    "_defaultOrder": 36,
    "_isFastLaunch": false,
    "category": "Accelerated computing",
    "gpuNum": 4,
    "hideHardwareSpecs": false,
    "memoryGiB": 244,
    "name": "ml.p3.8xlarge",
    "vcpuNum": 32
   },
   {
    "_defaultOrder": 37,
    "_isFastLaunch": false,
    "category": "Accelerated computing",
    "gpuNum": 8,
    "hideHardwareSpecs": false,
    "memoryGiB": 488,
    "name": "ml.p3.16xlarge",
    "vcpuNum": 64
   },
   {
    "_defaultOrder": 38,
    "_isFastLaunch": false,
    "category": "Accelerated computing",
    "gpuNum": 8,
    "hideHardwareSpecs": false,
    "memoryGiB": 768,
    "name": "ml.p3dn.24xlarge",
    "vcpuNum": 96
   },
   {
    "_defaultOrder": 39,
    "_isFastLaunch": false,
    "category": "Memory Optimized",
    "gpuNum": 0,
    "hideHardwareSpecs": false,
    "memoryGiB": 16,
    "name": "ml.r5.large",
    "vcpuNum": 2
   },
   {
    "_defaultOrder": 40,
    "_isFastLaunch": false,
    "category": "Memory Optimized",
    "gpuNum": 0,
    "hideHardwareSpecs": false,
    "memoryGiB": 32,
    "name": "ml.r5.xlarge",
    "vcpuNum": 4
   },
   {
    "_defaultOrder": 41,
    "_isFastLaunch": false,
    "category": "Memory Optimized",
    "gpuNum": 0,
    "hideHardwareSpecs": false,
    "memoryGiB": 64,
    "name": "ml.r5.2xlarge",
    "vcpuNum": 8
   },
   {
    "_defaultOrder": 42,
    "_isFastLaunch": false,
    "category": "Memory Optimized",
    "gpuNum": 0,
    "hideHardwareSpecs": false,
    "memoryGiB": 128,
    "name": "ml.r5.4xlarge",
    "vcpuNum": 16
   },
   {
    "_defaultOrder": 43,
    "_isFastLaunch": false,
    "category": "Memory Optimized",
    "gpuNum": 0,
    "hideHardwareSpecs": false,
    "memoryGiB": 256,
    "name": "ml.r5.8xlarge",
    "vcpuNum": 32
   },
   {
    "_defaultOrder": 44,
    "_isFastLaunch": false,
    "category": "Memory Optimized",
    "gpuNum": 0,
    "hideHardwareSpecs": false,
    "memoryGiB": 384,
    "name": "ml.r5.12xlarge",
    "vcpuNum": 48
   },
   {
    "_defaultOrder": 45,
    "_isFastLaunch": false,
    "category": "Memory Optimized",
    "gpuNum": 0,
    "hideHardwareSpecs": false,
    "memoryGiB": 512,
    "name": "ml.r5.16xlarge",
    "vcpuNum": 64
   },
   {
    "_defaultOrder": 46,
    "_isFastLaunch": false,
    "category": "Memory Optimized",
    "gpuNum": 0,
    "hideHardwareSpecs": false,
    "memoryGiB": 768,
    "name": "ml.r5.24xlarge",
    "vcpuNum": 96
   },
   {
    "_defaultOrder": 47,
    "_isFastLaunch": false,
    "category": "Accelerated computing",
    "gpuNum": 1,
    "hideHardwareSpecs": false,
    "memoryGiB": 16,
    "name": "ml.g5.xlarge",
    "vcpuNum": 4
   },
   {
    "_defaultOrder": 48,
    "_isFastLaunch": false,
    "category": "Accelerated computing",
    "gpuNum": 1,
    "hideHardwareSpecs": false,
    "memoryGiB": 32,
    "name": "ml.g5.2xlarge",
    "vcpuNum": 8
   },
   {
    "_defaultOrder": 49,
    "_isFastLaunch": false,
    "category": "Accelerated computing",
    "gpuNum": 1,
    "hideHardwareSpecs": false,
    "memoryGiB": 64,
    "name": "ml.g5.4xlarge",
    "vcpuNum": 16
   },
   {
    "_defaultOrder": 50,
    "_isFastLaunch": false,
    "category": "Accelerated computing",
    "gpuNum": 1,
    "hideHardwareSpecs": false,
    "memoryGiB": 128,
    "name": "ml.g5.8xlarge",
    "vcpuNum": 32
   },
   {
    "_defaultOrder": 51,
    "_isFastLaunch": false,
    "category": "Accelerated computing",
    "gpuNum": 1,
    "hideHardwareSpecs": false,
    "memoryGiB": 256,
    "name": "ml.g5.16xlarge",
    "vcpuNum": 64
   },
   {
    "_defaultOrder": 52,
    "_isFastLaunch": false,
    "category": "Accelerated computing",
    "gpuNum": 4,
    "hideHardwareSpecs": false,
    "memoryGiB": 192,
    "name": "ml.g5.12xlarge",
    "vcpuNum": 48
   },
   {
    "_defaultOrder": 53,
    "_isFastLaunch": false,
    "category": "Accelerated computing",
    "gpuNum": 4,
    "hideHardwareSpecs": false,
    "memoryGiB": 384,
    "name": "ml.g5.24xlarge",
    "vcpuNum": 96
   },
   {
    "_defaultOrder": 54,
    "_isFastLaunch": false,
    "category": "Accelerated computing",
    "gpuNum": 8,
    "hideHardwareSpecs": false,
    "memoryGiB": 768,
    "name": "ml.g5.48xlarge",
    "vcpuNum": 192
   },
   {
    "_defaultOrder": 55,
    "_isFastLaunch": false,
    "category": "Accelerated computing",
    "gpuNum": 8,
    "hideHardwareSpecs": false,
    "memoryGiB": 1152,
    "name": "ml.p4d.24xlarge",
    "vcpuNum": 96
   },
   {
    "_defaultOrder": 56,
    "_isFastLaunch": false,
    "category": "Accelerated computing",
    "gpuNum": 8,
    "hideHardwareSpecs": false,
    "memoryGiB": 1152,
    "name": "ml.p4de.24xlarge",
    "vcpuNum": 96
   },
   {
    "_defaultOrder": 57,
    "_isFastLaunch": false,
    "category": "Accelerated computing",
    "gpuNum": 0,
    "hideHardwareSpecs": false,
    "memoryGiB": 32,
    "name": "ml.trn1.2xlarge",
    "vcpuNum": 8
   },
   {
    "_defaultOrder": 58,
    "_isFastLaunch": false,
    "category": "Accelerated computing",
    "gpuNum": 0,
    "hideHardwareSpecs": false,
    "memoryGiB": 512,
    "name": "ml.trn1.32xlarge",
    "vcpuNum": 128
   },
   {
    "_defaultOrder": 59,
    "_isFastLaunch": false,
    "category": "Accelerated computing",
    "gpuNum": 0,
    "hideHardwareSpecs": false,
    "memoryGiB": 512,
    "name": "ml.trn1n.32xlarge",
    "vcpuNum": 128
   }
  ],
  "instance_type": "ml.t3.medium",
  "kernelspec": {
   "display_name": "Python 3 (Data Science 3.0)",
   "language": "python",
   "name": "python3__SAGEMAKER_INTERNAL__arn:aws:sagemaker:us-east-1:081325390199:image/sagemaker-data-science-310-v1"
  },
  "language_info": {
   "codemirror_mode": {
    "name": "ipython",
    "version": 3
   },
   "file_extension": ".py",
   "mimetype": "text/x-python",
   "name": "python",
   "nbconvert_exporter": "python",
   "pygments_lexer": "ipython3",
   "version": "3.10.6"
  }
 },
 "nbformat": 4,
 "nbformat_minor": 5
}
